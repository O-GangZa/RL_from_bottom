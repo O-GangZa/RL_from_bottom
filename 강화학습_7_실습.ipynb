{
  "nbformat": 4,
  "nbformat_minor": 0,
  "metadata": {
    "colab": {
      "name": "강화학습 #7 실습.ipynb",
      "provenance": []
    },
    "kernelspec": {
      "name": "python3",
      "display_name": "Python 3"
    },
    "language_info": {
      "name": "python"
    },
    "accelerator": "GPU"
  },
  "cells": [
    {
      "cell_type": "code",
      "execution_count": 1,
      "metadata": {
        "id": "FG6ZRMGq40Lm"
      },
      "outputs": [],
      "source": [
        "import torch\n",
        "import torch.nn as nn\n",
        "import torch.nn.functional as F\n",
        "import torch.optim as optim"
      ]
    },
    {
      "cell_type": "code",
      "source": [
        "import numpy as np\n",
        "import matplotlib.pyplot as plt    #그래프 확인 용 라이브러리"
      ],
      "metadata": {
        "id": "HLYOchTQ7Cg9"
      },
      "execution_count": 2,
      "outputs": []
    },
    {
      "cell_type": "markdown",
      "source": [
        "## Model 클래스"
      ],
      "metadata": {
        "id": "qpy2WKiK8Y7x"
      }
    },
    {
      "cell_type": "code",
      "source": [
        "class Model(nn.Module):\n",
        "    def __init__(self):  # 모델의 상세 구조 정의\n",
        "        super(Model, self).__init__() #모델들을 nn.Module로부터 상속 받음\n",
        "        self.fc1 = nn.Linear(1, 128) # 히든레이어 : 입력 = 1, 출력 128\n",
        "        self.fc2 = nn.Linear(128, 128) # 입력 = 128, 출력 128 => 파라미터 128*128개가 필요함\n",
        "        self.fc3 = nn.Linear(128, 128)\n",
        "        self.fc4 = nn.Linear(128, 1, bias=False)\n",
        "\n",
        "    def forward (self, x): #모델을 이용하여 실제로 연산할 때 호출되는 함수\n",
        "        x = F.relu(self.fc1(x)) #렐?루\n",
        "        x = F.relu(self.fc2(x))\n",
        "        x = F.relu(self.fc3(x))\n",
        "        x = self.fc4(x)\n",
        "        return x"
      ],
      "metadata": {
        "id": "5U99-J4o7GFh"
      },
      "execution_count": 3,
      "outputs": []
    },
    {
      "cell_type": "markdown",
      "source": [
        "케라스로 치면\n",
        "입력값1 -> fc1 -> relu -> fc2-> relu -> fc3-> relu -> fc4 -> 값 1개 리턴 이런 형식인거 같다.\n",
        "\n",
        "복잡한 모델은 새로 배우는 수밖에"
      ],
      "metadata": {
        "id": "H9Yr8MYB8bou"
      }
    },
    {
      "cell_type": "markdown",
      "source": [
        "## 데이터 생성 함수 F(x)"
      ],
      "metadata": {
        "id": "4Hq7nPZ78znE"
      }
    },
    {
      "cell_type": "code",
      "source": [
        "def true_fun(X):\n",
        "    noise = np.random.rand(X.shape[0])*0.4 -0.2\n",
        "    return np.cos(1.5*np.pi*X) + X + noise"
      ],
      "metadata": {
        "id": "7Hn2MHbR8x8v"
      },
      "execution_count": 4,
      "outputs": []
    },
    {
      "cell_type": "markdown",
      "source": [
        "수식 F(x) = cos(1.5π *x)+ x + ε 을 넘파이로 구현"
      ],
      "metadata": {
        "id": "-rsUicS_9DK6"
      }
    },
    {
      "cell_type": "markdown",
      "source": [
        "## plotting 함수"
      ],
      "metadata": {
        "id": "4lssl5E79OuZ"
      }
    },
    {
      "cell_type": "code",
      "source": [
        "def plot_results(model):\n",
        "    x = np.linspace(0, 5, 100)\n",
        "    input_x  = torch.from_numpy(x).float().unsqueeze(1)\n",
        "    plt.plot(x, true_fun(x), label=\"Truth\")\n",
        "    plt.plot(x, model(input_x).detach().numpy(), label=\"Prediction\")\n",
        "    plt.legend(loc='lower right', fontsize=15)\n",
        "    plt.xlim((0, 5))\n",
        "    plt.ylim((-1, 5))\n",
        "    plt.grid()"
      ],
      "metadata": {
        "id": "R5eqMKiA9BRH"
      },
      "execution_count": 8,
      "outputs": []
    },
    {
      "cell_type": "markdown",
      "source": [
        "## 메인 함수"
      ],
      "metadata": {
        "id": "MogDHIHK95KL"
      }
    },
    {
      "cell_type": "code",
      "source": [
        "def main():\n",
        "    data_x = np.random.rand(10000)*5   \n",
        "    #0~5 숫자를 10000개 샘플링 해서 인풋으로 사용\n",
        "    model = Model()\n",
        "    optimizer = optim.Adam(model.parameters(), lr=0.001)\n",
        "\n",
        "    for step in range(10000):\n",
        "        batch_x = np.random.choice(data_x, 32)\n",
        "        # 1만개 중 랜덤하게 뽑힌 32개의 데이터로 mini-batch를 구성\n",
        "        batch_x_tensor = torch.from_numpy(batch_x).float().unsqueeze(1) # 파이토치 텐서로 변환, 1인덱스는 배치차원?\n",
        "        # unsqueeze() 괄호안에 인덱스에 해당하는 곳에 차원을 추가해준다.\n",
        "        pred = model(batch_x_tensor) #변환된 파이토치 텐서를 모델에 넣자\n",
        "\n",
        "        batch_y = true_fun(batch_x) # 원본 함수에 넣어서 real값을 구함\n",
        "        truth = torch.from_numpy(batch_y).float().unsqueeze(1) # 통일석을 위해 똑같이 차원을 추가해줌\n",
        "        loss = F.mse_loss(pred, truth) #손실 함수인 MSE를 계산\n",
        "\n",
        "        optimizer.zero_grad()\n",
        "        loss.mean().backward() # 역전파를 통한 그라디언트 계산이 일어남\n",
        "        optimizer.step() #파라미터를 업데이트 함\n",
        "\n",
        "    plot_results(model)"
      ],
      "metadata": {
        "id": "4bfMmW5O92Wm"
      },
      "execution_count": 9,
      "outputs": []
    },
    {
      "cell_type": "code",
      "source": [
        "main()"
      ],
      "metadata": {
        "colab": {
          "base_uri": "https://localhost:8080/",
          "height": 269
        },
        "id": "-CUKHxqn_mwM",
        "outputId": "f2b99829-355a-4b90-89e8-ce5412f6d48d"
      },
      "execution_count": 10,
      "outputs": [
        {
          "output_type": "display_data",
          "data": {
            "text/plain": [
              "<Figure size 432x288 with 1 Axes>"
            ],
            "image/png": "[encoded data removed]"
          },
          "metadata": {
            "needs_background": "light"
          }
        }
      ]
    },
    {
      "cell_type": "markdown",
      "source": [
        "학습을 통해 F(x) = cos(1.5π *x)+ x + ε 의 Truth함수를 \n",
        "\n",
        "Prediction이 거의 유사하게 따라가고 있음을 알 수 있음\n",
        "\n",
        "오히려 noise가 없는 원본함수에 더 가까운거 같다."
      ],
      "metadata": {
        "id": "PPoUD3U9BC_P"
      }
    },
    {
      "cell_type": "code",
      "source": [
        ""
      ],
      "metadata": {
        "id": "3WniWQ6eBOXw"
      },
      "execution_count": null,
      "outputs": []
    }
  ]
}