{
  "nbformat": 4,
  "nbformat_minor": 0,
  "metadata": {
    "colab": {
      "name": "강화학습 #5 실습.ipynb",
      "provenance": []
    },
    "kernelspec": {
      "name": "python3",
      "display_name": "Python 3"
    },
    "language_info": {
      "name": "python"
    }
  },
  "cells": [
    {
      "cell_type": "code",
      "source": [
        "import random"
      ],
      "metadata": {
        "id": "Ye2r9Iiz4zAm"
      },
      "execution_count": null,
      "outputs": []
    },
    {
      "cell_type": "code",
      "execution_count": null,
      "metadata": {
        "id": "yiiyMjLftESQ"
      },
      "outputs": [],
      "source": [
        "class GridWorld():\n",
        "    def __init__(self):\n",
        "        self.x=0\n",
        "        self.y=0\n",
        "    def step(self, a):\n",
        "        if a==0:\n",
        "            self.move_right()\n",
        "        elif a==1:\n",
        "            self.move_left()\n",
        "        elif a==2:\n",
        "            self.move_up()\n",
        "        elif a==3:\n",
        "            self.move_down()\n",
        "        reward = -1\n",
        "        done = self.is_done()\n",
        "        return (self.x, self.y), reward, done\n",
        "\n",
        "    def move_right(self):\n",
        "        self.y += 1\n",
        "        if self.y > 3:\n",
        "            self.y = 3\n",
        "    \n",
        "    def move_left(self):\n",
        "        self.y -= 1\n",
        "        if self.y < 0:\n",
        "            self.y = 0\n",
        "\n",
        "    def move_up(self):\n",
        "        self.x -= 1\n",
        "        if self.x < 0:\n",
        "            self.x = 0\n",
        "\n",
        "    def move_down(self):\n",
        "        self.x += 1\n",
        "        if self.x > 3:\n",
        "            self.x = 3\n",
        "\n",
        "    def is_done(self):\n",
        "        if self.x == 3 and self.y ==3:\n",
        "            return True\n",
        "        else:\n",
        "            return False\n",
        "    \n",
        "    def get_state(self):\n",
        "        return (self.x, self.y)\n",
        "\n",
        "    def reset(self):\n",
        "        self.x = 0 \n",
        "        self.y = 0\n",
        "        return (self.x, self.y)    "
      ]
    },
    {
      "cell_type": "code",
      "source": [
        "class Agent ():\n",
        "    def __init__(self):\n",
        "        pass\n",
        "\n",
        "    def select_action(self):\n",
        "        coin = random.random()\n",
        "        if coin < 0.25:\n",
        "            action = 0\n",
        "        elif coin < 0.5:\n",
        "            action = 1\n",
        "        elif coin < 0.75:\n",
        "            action = 2\n",
        "        else:\n",
        "            action = 3\n",
        "        return action\n"
      ],
      "metadata": {
        "id": "v58ea5OpzB-K"
      },
      "execution_count": null,
      "outputs": []
    },
    {
      "cell_type": "code",
      "source": [
        "def main():\n",
        "    env = GridWorld()\n",
        "    agent = Agent()\n",
        "    data = [[0,0,0,0],[0,0,0,0],[0,0,0,0],[0,0,0,0]]\n",
        "    gamma = 1.0\n",
        "    alpha = 0.0001\n",
        "\n",
        "    for k in range(50000): # 총 5만 번의 에피소드 진행\n",
        "        done = False\n",
        "        history = []\n",
        "        while not done:\n",
        "            action = agent.select_action()\n",
        "            (x,y), reward, done = env.step(action)\n",
        "            history.append((x,y,reward))\n",
        "        env.reset()\n",
        "        # 매 에피소드가 끝나고 바로 해당 데이터를 이용해 테이블을 업데이트\n",
        "        cum_reward = 0\n",
        "        for transition in history[::-1]:\n",
        "            # 방문했던 상태들을 뒤에서부터보며 차례차례 리턴을 계산\n",
        "            x, y, reward = transition\n",
        "            data[x][y] = data[x][y] + alpha*(cum_reward-data[x][y])\n",
        "            cum_reward = cum_reward + gamma*reward\n",
        "\n",
        "    # 학습이 끝나고 난 후 데이터를 출력해보는 코드\n",
        "    \n",
        "    for row in data:\n",
        "        print(row)"
      ],
      "metadata": {
        "id": "eTeeLnV5zG83"
      },
      "execution_count": null,
      "outputs": []
    },
    {
      "cell_type": "code",
      "source": [
        "main()"
      ],
      "metadata": {
        "colab": {
          "base_uri": "https://localhost:8080/"
        },
        "id": "RuyY-e8w1Jq0",
        "outputId": "129868cf-2b90-40eb-d330-7066b2f3a440"
      },
      "execution_count": null,
      "outputs": [
        {
          "output_type": "stream",
          "name": "stdout",
          "text": [
            "[-60.97069528045291, -58.83812725103779, -56.576954810005375, -54.1364811519732]\n",
            "[-59.67388713683955, -55.873217943693334, -51.479086863157335, -47.074672444524495]\n",
            "[-56.68670417847033, -51.63362314455851, -42.65028397278723, -31.252977887275925]\n",
            "[-54.79325695014831, -48.20509967075206, -32.3476619387113, 0.0]\n"
          ]
        }
      ]
    },
    {
      "cell_type": "code",
      "source": [
        ""
      ],
      "metadata": {
        "id": "bFngxZK54wrf"
      },
      "execution_count": null,
      "outputs": []
    }
  ]
}