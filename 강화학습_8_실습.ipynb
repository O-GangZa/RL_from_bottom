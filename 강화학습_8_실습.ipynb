{
  "nbformat": 4,
  "nbformat_minor": 0,
  "metadata": {
    "colab": {
      "name": "강화학습 #8 실습.ipynb",
      "provenance": []
    },
    "kernelspec": {
      "name": "python3",
      "display_name": "Python 3"
    },
    "language_info": {
      "name": "python"
    }
  },
  "cells": [
    {
      "cell_type": "code",
      "source": [
        "import gym\n",
        "import collections\n",
        "import random\n",
        "\n",
        "import torch\n",
        "import torch.nn as nn\n",
        "import torch.nn.functional as F\n",
        "import torch.optim as optim"
      ],
      "metadata": {
        "id": "zi2Wi6X-rL2Z"
      },
      "execution_count": 1,
      "outputs": []
    },
    {
      "cell_type": "code",
      "source": [
        "#하이퍼 파라미터\n",
        "learning_rate = 0.0005\n",
        "gamma = 0.98\n",
        "buffer_limit = 50000\n",
        "batch_size = 32"
      ],
      "metadata": {
        "id": "hylAv0KlrrM9"
      },
      "execution_count": 2,
      "outputs": []
    },
    {
      "cell_type": "markdown",
      "source": [
        "### 리플레이 버퍼 클래스"
      ],
      "metadata": {
        "id": "eCFVCKLOr92Z"
      }
    },
    {
      "cell_type": "code",
      "source": [
        "class ReplayBuffer():\n",
        "    def __init__(self):\n",
        "        self.buffer = collections.deque(maxlen=buffer_limit)\n",
        "    \n",
        "    def put(self, transition):\n",
        "        self.buffer.append(transition)\n",
        "    \n",
        "    def sample(self, n):\n",
        "        mini_batch = random.sample(self.buffer, n)\n",
        "        s_lst, a_lst, r_lst, s_prime_lst, done_mask_lst= [], [], [], [], []\n",
        "\n",
        "        for transition in mini_batch:\n",
        "            s, a, r, s_prime, done_mask = transition\n",
        "            s_lst.append(s)\n",
        "            a_lst.append([a])\n",
        "            r_lst.append([r])\n",
        "            s_prime_lst.append(s_prime)\n",
        "            done_mask_lst.append([done_mask])\n",
        "\n",
        "        return torch.tensor(s_lst, dtype=torch.float), torch.tensor(a_lst), torch.tensor(r_lst), torch.tensor(s_prime_lst, dtype=torch.float), torch.tensor(done_mask_lst)\n",
        "\n",
        "    def size(self):\n",
        "        return len(self.buffer)\n",
        "\n",
        "        "
      ],
      "metadata": {
        "id": "egiwldjDr6Se"
      },
      "execution_count": 3,
      "outputs": []
    },
    {
      "cell_type": "markdown",
      "source": [
        "5만개의 데이터를 들고 있다가 필요할 때, batch_size만큼의 데이터를 뽑아서 제공해줌\n"
      ],
      "metadata": {
        "id": "2PFIOUrVtalB"
      }
    },
    {
      "cell_type": "markdown",
      "source": [
        "### Q밸류 네트워크 클래스"
      ],
      "metadata": {
        "id": "pZkzG6TPtnI2"
      }
    },
    {
      "cell_type": "code",
      "source": [
        "class Qnet(nn.Module):\n",
        "    def __init__(self):\n",
        "        super(Qnet, self).__init__()\n",
        "        self.fc1 = nn.Linear(4, 128)\n",
        "        self.fc2 = nn.Linear(128, 128)\n",
        "        self.fc3 = nn.Linear(128, 2)\n",
        "\n",
        "    def forward(self, x):\n",
        "        x = F.relu(self.fc1(x))\n",
        "        x = F.relu(self.fc2(x))\n",
        "        x = self.fc3(x)\n",
        "        return x\n",
        "\n",
        "    def sample_action(self, obs, epsilon):\n",
        "        out = self.forward(obs)\n",
        "        coin = random.random()\n",
        "        if coin < epsilon:\n",
        "            return random.randint(0, 1)\n",
        "        else:\n",
        "            return out.argmax().item()"
      ],
      "metadata": {
        "id": "mak21rGptVJ1"
      },
      "execution_count": 11,
      "outputs": []
    },
    {
      "cell_type": "markdown",
      "source": [
        "nn.Module로부터 상속받음 init에서 각 레이어들을 선언해줌 (여기선 다 FC레이어만 사용됨) - 어차피 input은 (카트 위치, 카트 속도, 막대 각도, 막대 각속도)로 정해져 있기 때문인거 같다.\n",
        "\n",
        "마지막 아웃풋은 Q밸류라 ReLU를 안써준 모습을 보이고, sample_action은 코인 토스를 통해서 액션을 epsilon-greedy 방식으로 선택한다."
      ],
      "metadata": {
        "id": "9ALuHc46uo8j"
      }
    },
    {
      "cell_type": "markdown",
      "source": [
        "### 학습 함수"
      ],
      "metadata": {
        "id": "qLW7xwUPvd1n"
      }
    },
    {
      "cell_type": "code",
      "source": [
        "def train(q, q_target, memory, optimizer):\n",
        "    for i in range(10):\n",
        "        s,a,r,s_prime,done_mask = memory.sample(batch_size)\n",
        "        q_out = q(s)\n",
        "        q_a = q_out.gather(1, a)\n",
        "        max_q_prime = q_target(s_prime). max (1)[0].unsqueeze(1)\n",
        "        target = r + gamma*max_q_prime*done_mask\n",
        "        loss = F.smooth_l1_loss(q_a, target)\n",
        "\n",
        "        optimizer.zero_grad()\n",
        "        loss.backward()  #F로 forward연산을 기록해놨다가 대충 loss에 대해 그라디언트를 구할수 있다.\n",
        "        optimizer.step()"
      ],
      "metadata": {
        "id": "Rg0ti-oVumEg"
      },
      "execution_count": 5,
      "outputs": []
    },
    {
      "cell_type": "markdown",
      "source": [
        "에피소드가 하나 끝날때마다 함수가 호출되며, 10개의 미니배치를 뽑아 학습시켜\n",
        "loss값과 loss의 gradient를 구한다.\n",
        "\n",
        "q_a는 선택된action의 q값에 해당한다"
      ],
      "metadata": {
        "id": "sY8dxD0WwgpE"
      }
    },
    {
      "cell_type": "markdown",
      "source": [
        "### 메인 함수"
      ],
      "metadata": {
        "id": "LNlNDV_ow2Yt"
      }
    },
    {
      "cell_type": "code",
      "source": [
        "def main():\n",
        "    env = gym.make('CartPole-v1')\n",
        "    q = Qnet()\n",
        "    q_target = Qnet()\n",
        "    q_target.load_state_dict(q.state_dict())\n",
        "    memory = ReplayBuffer()\n",
        "\n",
        "    print_interval = 20\n",
        "    score = 0.0 \n",
        "    optimizer = optim.Adam(q.parameters(), lr=learning_rate)\n",
        "    #q, q_target은 초반에 동일하지만, optimizer에 의해 q는 지속적으로 학습이 된다\n",
        "\n",
        "    for n_epi in range(10000):\n",
        "        epsilon = max(0.01, 0.08 - 0.01*(n_epi/200))\n",
        "        # 시간에따라 0.08 에서 0.01까지 epsilon 값이 감소한다\n",
        "        s = env.reset()\n",
        "        done = False\n",
        "\n",
        "        while not done:\n",
        "            a = q.sample_action(torch.from_numpy(s).float(), epsilon)\n",
        "            s_prime, r, done, info = env.step(a)\n",
        "            done_mask = 0.0 if done else 1.0\n",
        "            memory.put((s,a,r/100.0,s_prime, done_mask))\n",
        "            s= s_prime\n",
        "            score += r\n",
        "            if done:\n",
        "                break\n",
        "\n",
        "        if memory.size()>2000:\n",
        "            train(q, q_target, memory, optimizer)\n",
        "\n",
        "        if n_epi%print_interval==0 and n_epi!=0:\n",
        "            q_target.load_state_dict(q.state_dict())\n",
        "            print(\"n_episode:{}, score : {:.1f}, n_buffer :{}, eps : {:.1f}%\".format(n_epi, score/print_interval, memory.size(), epsilon*100))\n",
        "            score =0.0\n",
        "    env.close()"
      ],
      "metadata": {
        "id": "ZVkmuosMwYef"
      },
      "execution_count": 17,
      "outputs": []
    },
    {
      "cell_type": "code",
      "source": [
        "if __name__ == '__main__':\n",
        "    main()"
      ],
      "metadata": {
        "colab": {
          "base_uri": "https://localhost:8080/",
          "height": 1000
        },
        "id": "TB5dtze6xbIe",
        "outputId": "09dc0ac4-2b14-43fe-9cb7-46f922aab40c"
      },
      "execution_count": 18,
      "outputs": [
        {
          "output_type": "stream",
          "name": "stdout",
          "text": [
            "n_episode:20, score : 10.2, n_buffer :205, eps : 7.9%\n",
            "n_episode:40, score : 9.4, n_buffer :394, eps : 7.8%\n",
            "n_episode:60, score : 9.6, n_buffer :586, eps : 7.7%\n",
            "n_episode:80, score : 9.7, n_buffer :780, eps : 7.6%\n",
            "n_episode:100, score : 9.7, n_buffer :974, eps : 7.5%\n",
            "n_episode:120, score : 9.8, n_buffer :1171, eps : 7.4%\n",
            "n_episode:140, score : 9.4, n_buffer :1360, eps : 7.3%\n",
            "n_episode:160, score : 9.7, n_buffer :1553, eps : 7.2%\n",
            "n_episode:180, score : 9.8, n_buffer :1749, eps : 7.1%\n",
            "n_episode:200, score : 9.6, n_buffer :1940, eps : 7.0%\n"
          ]
        },
        {
          "output_type": "stream",
          "name": "stderr",
          "text": [
            "/usr/local/lib/python3.7/dist-packages/ipykernel_launcher.py:20: UserWarning: Creating a tensor from a list of numpy.ndarrays is extremely slow. Please consider converting the list to a single numpy.ndarray with numpy.array() before converting to a tensor. (Triggered internally at  ../torch/csrc/utils/tensor_new.cpp:210.)\n"
          ]
        },
        {
          "output_type": "stream",
          "name": "stdout",
          "text": [
            "n_episode:220, score : 9.8, n_buffer :2135, eps : 6.9%\n",
            "n_episode:240, score : 9.9, n_buffer :2334, eps : 6.8%\n",
            "n_episode:260, score : 10.3, n_buffer :2540, eps : 6.7%\n",
            "n_episode:280, score : 12.7, n_buffer :2793, eps : 6.6%\n",
            "n_episode:300, score : 14.7, n_buffer :3087, eps : 6.5%\n",
            "n_episode:320, score : 16.3, n_buffer :3413, eps : 6.4%\n",
            "n_episode:340, score : 42.2, n_buffer :4258, eps : 6.3%\n",
            "n_episode:360, score : 76.3, n_buffer :5785, eps : 6.2%\n",
            "n_episode:380, score : 122.2, n_buffer :8229, eps : 6.1%\n",
            "n_episode:400, score : 103.0, n_buffer :10290, eps : 6.0%\n",
            "n_episode:420, score : 102.8, n_buffer :12346, eps : 5.9%\n",
            "n_episode:440, score : 114.4, n_buffer :14634, eps : 5.8%\n",
            "n_episode:460, score : 159.2, n_buffer :17817, eps : 5.7%\n",
            "n_episode:480, score : 224.0, n_buffer :22297, eps : 5.6%\n",
            "n_episode:500, score : 171.6, n_buffer :25728, eps : 5.5%\n",
            "n_episode:520, score : 187.1, n_buffer :29470, eps : 5.4%\n",
            "n_episode:540, score : 170.6, n_buffer :32881, eps : 5.3%\n",
            "n_episode:560, score : 194.0, n_buffer :36761, eps : 5.2%\n",
            "n_episode:580, score : 135.8, n_buffer :39477, eps : 5.1%\n",
            "n_episode:600, score : 181.2, n_buffer :43102, eps : 5.0%\n",
            "n_episode:620, score : 209.8, n_buffer :47298, eps : 4.9%\n",
            "n_episode:640, score : 185.1, n_buffer :50000, eps : 4.8%\n",
            "n_episode:660, score : 143.0, n_buffer :50000, eps : 4.7%\n",
            "n_episode:680, score : 174.8, n_buffer :50000, eps : 4.6%\n",
            "n_episode:700, score : 165.2, n_buffer :50000, eps : 4.5%\n",
            "n_episode:720, score : 162.4, n_buffer :50000, eps : 4.4%\n",
            "n_episode:740, score : 135.7, n_buffer :50000, eps : 4.3%\n",
            "n_episode:760, score : 169.6, n_buffer :50000, eps : 4.2%\n",
            "n_episode:780, score : 159.1, n_buffer :50000, eps : 4.1%\n",
            "n_episode:800, score : 157.1, n_buffer :50000, eps : 4.0%\n",
            "n_episode:820, score : 155.7, n_buffer :50000, eps : 3.9%\n",
            "n_episode:840, score : 173.8, n_buffer :50000, eps : 3.8%\n",
            "n_episode:860, score : 162.1, n_buffer :50000, eps : 3.7%\n",
            "n_episode:880, score : 152.1, n_buffer :50000, eps : 3.6%\n",
            "n_episode:900, score : 191.2, n_buffer :50000, eps : 3.5%\n",
            "n_episode:920, score : 194.2, n_buffer :50000, eps : 3.4%\n",
            "n_episode:940, score : 185.7, n_buffer :50000, eps : 3.3%\n",
            "n_episode:960, score : 142.4, n_buffer :50000, eps : 3.2%\n",
            "n_episode:980, score : 146.2, n_buffer :50000, eps : 3.1%\n",
            "n_episode:1000, score : 146.8, n_buffer :50000, eps : 3.0%\n",
            "n_episode:1020, score : 156.2, n_buffer :50000, eps : 2.9%\n",
            "n_episode:1040, score : 143.0, n_buffer :50000, eps : 2.8%\n",
            "n_episode:1060, score : 165.4, n_buffer :50000, eps : 2.7%\n",
            "n_episode:1080, score : 154.8, n_buffer :50000, eps : 2.6%\n",
            "n_episode:1100, score : 151.1, n_buffer :50000, eps : 2.5%\n",
            "n_episode:1120, score : 153.5, n_buffer :50000, eps : 2.4%\n",
            "n_episode:1140, score : 188.9, n_buffer :50000, eps : 2.3%\n",
            "n_episode:1160, score : 188.7, n_buffer :50000, eps : 2.2%\n",
            "n_episode:1180, score : 171.4, n_buffer :50000, eps : 2.1%\n",
            "n_episode:1200, score : 159.2, n_buffer :50000, eps : 2.0%\n",
            "n_episode:1220, score : 179.1, n_buffer :50000, eps : 1.9%\n",
            "n_episode:1240, score : 170.3, n_buffer :50000, eps : 1.8%\n",
            "n_episode:1260, score : 193.8, n_buffer :50000, eps : 1.7%\n",
            "n_episode:1280, score : 181.2, n_buffer :50000, eps : 1.6%\n",
            "n_episode:1300, score : 178.9, n_buffer :50000, eps : 1.5%\n",
            "n_episode:1320, score : 152.9, n_buffer :50000, eps : 1.4%\n",
            "n_episode:1340, score : 202.5, n_buffer :50000, eps : 1.3%\n",
            "n_episode:1360, score : 167.6, n_buffer :50000, eps : 1.2%\n",
            "n_episode:1380, score : 167.2, n_buffer :50000, eps : 1.1%\n",
            "n_episode:1400, score : 178.6, n_buffer :50000, eps : 1.0%\n",
            "n_episode:1420, score : 137.7, n_buffer :50000, eps : 1.0%\n",
            "n_episode:1440, score : 153.2, n_buffer :50000, eps : 1.0%\n",
            "n_episode:1460, score : 169.1, n_buffer :50000, eps : 1.0%\n",
            "n_episode:1480, score : 167.3, n_buffer :50000, eps : 1.0%\n",
            "n_episode:1500, score : 142.6, n_buffer :50000, eps : 1.0%\n",
            "n_episode:1520, score : 148.1, n_buffer :50000, eps : 1.0%\n",
            "n_episode:1540, score : 109.5, n_buffer :50000, eps : 1.0%\n",
            "n_episode:1560, score : 108.3, n_buffer :50000, eps : 1.0%\n",
            "n_episode:1580, score : 84.5, n_buffer :50000, eps : 1.0%\n",
            "n_episode:1600, score : 118.6, n_buffer :50000, eps : 1.0%\n",
            "n_episode:1620, score : 154.3, n_buffer :50000, eps : 1.0%\n",
            "n_episode:1640, score : 146.5, n_buffer :50000, eps : 1.0%\n",
            "n_episode:1660, score : 170.2, n_buffer :50000, eps : 1.0%\n",
            "n_episode:1680, score : 181.8, n_buffer :50000, eps : 1.0%\n",
            "n_episode:1700, score : 143.4, n_buffer :50000, eps : 1.0%\n",
            "n_episode:1720, score : 132.2, n_buffer :50000, eps : 1.0%\n",
            "n_episode:1740, score : 105.7, n_buffer :50000, eps : 1.0%\n",
            "n_episode:1760, score : 111.4, n_buffer :50000, eps : 1.0%\n",
            "n_episode:1780, score : 108.5, n_buffer :50000, eps : 1.0%\n",
            "n_episode:1800, score : 136.3, n_buffer :50000, eps : 1.0%\n",
            "n_episode:1820, score : 149.6, n_buffer :50000, eps : 1.0%\n",
            "n_episode:1840, score : 224.5, n_buffer :50000, eps : 1.0%\n",
            "n_episode:1860, score : 169.8, n_buffer :50000, eps : 1.0%\n",
            "n_episode:1880, score : 156.7, n_buffer :50000, eps : 1.0%\n",
            "n_episode:1900, score : 191.4, n_buffer :50000, eps : 1.0%\n",
            "n_episode:1920, score : 153.8, n_buffer :50000, eps : 1.0%\n",
            "n_episode:1940, score : 163.2, n_buffer :50000, eps : 1.0%\n",
            "n_episode:1960, score : 158.4, n_buffer :50000, eps : 1.0%\n",
            "n_episode:1980, score : 252.8, n_buffer :50000, eps : 1.0%\n",
            "n_episode:2000, score : 163.8, n_buffer :50000, eps : 1.0%\n",
            "n_episode:2020, score : 214.8, n_buffer :50000, eps : 1.0%\n",
            "n_episode:2040, score : 126.5, n_buffer :50000, eps : 1.0%\n",
            "n_episode:2060, score : 144.2, n_buffer :50000, eps : 1.0%\n",
            "n_episode:2080, score : 192.2, n_buffer :50000, eps : 1.0%\n",
            "n_episode:2100, score : 214.9, n_buffer :50000, eps : 1.0%\n",
            "n_episode:2120, score : 226.7, n_buffer :50000, eps : 1.0%\n",
            "n_episode:2140, score : 199.5, n_buffer :50000, eps : 1.0%\n",
            "n_episode:2160, score : 241.4, n_buffer :50000, eps : 1.0%\n",
            "n_episode:2180, score : 176.4, n_buffer :50000, eps : 1.0%\n",
            "n_episode:2200, score : 234.3, n_buffer :50000, eps : 1.0%\n",
            "n_episode:2220, score : 229.7, n_buffer :50000, eps : 1.0%\n",
            "n_episode:2240, score : 301.0, n_buffer :50000, eps : 1.0%\n",
            "n_episode:2260, score : 200.7, n_buffer :50000, eps : 1.0%\n",
            "n_episode:2280, score : 243.9, n_buffer :50000, eps : 1.0%\n",
            "n_episode:2300, score : 246.0, n_buffer :50000, eps : 1.0%\n",
            "n_episode:2320, score : 266.9, n_buffer :50000, eps : 1.0%\n",
            "n_episode:2340, score : 233.0, n_buffer :50000, eps : 1.0%\n",
            "n_episode:2360, score : 234.7, n_buffer :50000, eps : 1.0%\n",
            "n_episode:2380, score : 225.3, n_buffer :50000, eps : 1.0%\n",
            "n_episode:2400, score : 194.0, n_buffer :50000, eps : 1.0%\n",
            "n_episode:2420, score : 183.8, n_buffer :50000, eps : 1.0%\n",
            "n_episode:2440, score : 241.8, n_buffer :50000, eps : 1.0%\n",
            "n_episode:2460, score : 235.2, n_buffer :50000, eps : 1.0%\n",
            "n_episode:2480, score : 237.7, n_buffer :50000, eps : 1.0%\n",
            "n_episode:2500, score : 244.2, n_buffer :50000, eps : 1.0%\n",
            "n_episode:2520, score : 266.8, n_buffer :50000, eps : 1.0%\n",
            "n_episode:2540, score : 286.9, n_buffer :50000, eps : 1.0%\n",
            "n_episode:2560, score : 241.2, n_buffer :50000, eps : 1.0%\n",
            "n_episode:2580, score : 254.3, n_buffer :50000, eps : 1.0%\n",
            "n_episode:2600, score : 348.4, n_buffer :50000, eps : 1.0%\n",
            "n_episode:2620, score : 291.0, n_buffer :50000, eps : 1.0%\n",
            "n_episode:2640, score : 286.1, n_buffer :50000, eps : 1.0%\n",
            "n_episode:2660, score : 239.8, n_buffer :50000, eps : 1.0%\n",
            "n_episode:2680, score : 235.7, n_buffer :50000, eps : 1.0%\n",
            "n_episode:2700, score : 205.7, n_buffer :50000, eps : 1.0%\n",
            "n_episode:2720, score : 152.0, n_buffer :50000, eps : 1.0%\n",
            "n_episode:2740, score : 191.6, n_buffer :50000, eps : 1.0%\n",
            "n_episode:2760, score : 285.4, n_buffer :50000, eps : 1.0%\n",
            "n_episode:2780, score : 205.5, n_buffer :50000, eps : 1.0%\n",
            "n_episode:2800, score : 380.3, n_buffer :50000, eps : 1.0%\n",
            "n_episode:2820, score : 378.8, n_buffer :50000, eps : 1.0%\n",
            "n_episode:2840, score : 292.4, n_buffer :50000, eps : 1.0%\n",
            "n_episode:2860, score : 344.6, n_buffer :50000, eps : 1.0%\n",
            "n_episode:2880, score : 407.2, n_buffer :50000, eps : 1.0%\n",
            "n_episode:2900, score : 399.6, n_buffer :50000, eps : 1.0%\n",
            "n_episode:2920, score : 415.8, n_buffer :50000, eps : 1.0%\n",
            "n_episode:2940, score : 361.8, n_buffer :50000, eps : 1.0%\n",
            "n_episode:2960, score : 284.4, n_buffer :50000, eps : 1.0%\n",
            "n_episode:2980, score : 318.1, n_buffer :50000, eps : 1.0%\n",
            "n_episode:3000, score : 322.1, n_buffer :50000, eps : 1.0%\n",
            "n_episode:3020, score : 339.9, n_buffer :50000, eps : 1.0%\n",
            "n_episode:3040, score : 280.4, n_buffer :50000, eps : 1.0%\n",
            "n_episode:3060, score : 314.8, n_buffer :50000, eps : 1.0%\n",
            "n_episode:3080, score : 375.2, n_buffer :50000, eps : 1.0%\n",
            "n_episode:3100, score : 322.9, n_buffer :50000, eps : 1.0%\n",
            "n_episode:3120, score : 321.1, n_buffer :50000, eps : 1.0%\n",
            "n_episode:3140, score : 357.1, n_buffer :50000, eps : 1.0%\n",
            "n_episode:3160, score : 331.4, n_buffer :50000, eps : 1.0%\n",
            "n_episode:3180, score : 335.6, n_buffer :50000, eps : 1.0%\n",
            "n_episode:3200, score : 293.6, n_buffer :50000, eps : 1.0%\n",
            "n_episode:3220, score : 352.1, n_buffer :50000, eps : 1.0%\n",
            "n_episode:3240, score : 416.4, n_buffer :50000, eps : 1.0%\n",
            "n_episode:3260, score : 370.8, n_buffer :50000, eps : 1.0%\n",
            "n_episode:3280, score : 323.7, n_buffer :50000, eps : 1.0%\n",
            "n_episode:3300, score : 367.0, n_buffer :50000, eps : 1.0%\n",
            "n_episode:3320, score : 464.6, n_buffer :50000, eps : 1.0%\n",
            "n_episode:3340, score : 448.7, n_buffer :50000, eps : 1.0%\n",
            "n_episode:3360, score : 480.5, n_buffer :50000, eps : 1.0%\n",
            "n_episode:3380, score : 440.5, n_buffer :50000, eps : 1.0%\n",
            "n_episode:3400, score : 352.9, n_buffer :50000, eps : 1.0%\n",
            "n_episode:3420, score : 359.2, n_buffer :50000, eps : 1.0%\n",
            "n_episode:3440, score : 401.3, n_buffer :50000, eps : 1.0%\n",
            "n_episode:3460, score : 227.8, n_buffer :50000, eps : 1.0%\n",
            "n_episode:3480, score : 419.6, n_buffer :50000, eps : 1.0%\n",
            "n_episode:3500, score : 407.3, n_buffer :50000, eps : 1.0%\n",
            "n_episode:3520, score : 381.1, n_buffer :50000, eps : 1.0%\n",
            "n_episode:3540, score : 445.9, n_buffer :50000, eps : 1.0%\n",
            "n_episode:3560, score : 395.3, n_buffer :50000, eps : 1.0%\n",
            "n_episode:3580, score : 474.4, n_buffer :50000, eps : 1.0%\n",
            "n_episode:3600, score : 483.5, n_buffer :50000, eps : 1.0%\n",
            "n_episode:3620, score : 429.6, n_buffer :50000, eps : 1.0%\n",
            "n_episode:3640, score : 466.0, n_buffer :50000, eps : 1.0%\n",
            "n_episode:3660, score : 400.4, n_buffer :50000, eps : 1.0%\n",
            "n_episode:3680, score : 449.4, n_buffer :50000, eps : 1.0%\n",
            "n_episode:3700, score : 415.9, n_buffer :50000, eps : 1.0%\n",
            "n_episode:3720, score : 421.4, n_buffer :50000, eps : 1.0%\n",
            "n_episode:3740, score : 245.4, n_buffer :50000, eps : 1.0%\n",
            "n_episode:3760, score : 296.4, n_buffer :50000, eps : 1.0%\n",
            "n_episode:3780, score : 332.6, n_buffer :50000, eps : 1.0%\n",
            "n_episode:3800, score : 286.1, n_buffer :50000, eps : 1.0%\n",
            "n_episode:3820, score : 290.8, n_buffer :50000, eps : 1.0%\n",
            "n_episode:3840, score : 324.6, n_buffer :50000, eps : 1.0%\n",
            "n_episode:3860, score : 340.6, n_buffer :50000, eps : 1.0%\n",
            "n_episode:3880, score : 286.6, n_buffer :50000, eps : 1.0%\n",
            "n_episode:3900, score : 279.5, n_buffer :50000, eps : 1.0%\n",
            "n_episode:3920, score : 255.2, n_buffer :50000, eps : 1.0%\n",
            "n_episode:3940, score : 295.1, n_buffer :50000, eps : 1.0%\n",
            "n_episode:3960, score : 267.6, n_buffer :50000, eps : 1.0%\n",
            "n_episode:3980, score : 291.6, n_buffer :50000, eps : 1.0%\n",
            "n_episode:4000, score : 262.6, n_buffer :50000, eps : 1.0%\n",
            "n_episode:4020, score : 265.6, n_buffer :50000, eps : 1.0%\n",
            "n_episode:4040, score : 256.9, n_buffer :50000, eps : 1.0%\n",
            "n_episode:4060, score : 310.1, n_buffer :50000, eps : 1.0%\n",
            "n_episode:4080, score : 265.4, n_buffer :50000, eps : 1.0%\n",
            "n_episode:4100, score : 273.1, n_buffer :50000, eps : 1.0%\n",
            "n_episode:4120, score : 226.2, n_buffer :50000, eps : 1.0%\n",
            "n_episode:4140, score : 239.7, n_buffer :50000, eps : 1.0%\n",
            "n_episode:4160, score : 269.4, n_buffer :50000, eps : 1.0%\n",
            "n_episode:4180, score : 176.6, n_buffer :50000, eps : 1.0%\n",
            "n_episode:4200, score : 194.2, n_buffer :50000, eps : 1.0%\n",
            "n_episode:4220, score : 222.7, n_buffer :50000, eps : 1.0%\n",
            "n_episode:4240, score : 434.1, n_buffer :50000, eps : 1.0%\n",
            "n_episode:4260, score : 418.9, n_buffer :50000, eps : 1.0%\n",
            "n_episode:4280, score : 390.7, n_buffer :50000, eps : 1.0%\n",
            "n_episode:4300, score : 347.7, n_buffer :50000, eps : 1.0%\n",
            "n_episode:4320, score : 314.4, n_buffer :50000, eps : 1.0%\n",
            "n_episode:4340, score : 197.8, n_buffer :50000, eps : 1.0%\n",
            "n_episode:4360, score : 224.2, n_buffer :50000, eps : 1.0%\n",
            "n_episode:4380, score : 188.6, n_buffer :50000, eps : 1.0%\n",
            "n_episode:4400, score : 137.6, n_buffer :50000, eps : 1.0%\n",
            "n_episode:4420, score : 213.9, n_buffer :50000, eps : 1.0%\n",
            "n_episode:4440, score : 231.2, n_buffer :50000, eps : 1.0%\n",
            "n_episode:4460, score : 148.4, n_buffer :50000, eps : 1.0%\n",
            "n_episode:4480, score : 284.9, n_buffer :50000, eps : 1.0%\n",
            "n_episode:4500, score : 409.1, n_buffer :50000, eps : 1.0%\n",
            "n_episode:4520, score : 215.2, n_buffer :50000, eps : 1.0%\n",
            "n_episode:4540, score : 314.4, n_buffer :50000, eps : 1.0%\n",
            "n_episode:4560, score : 374.9, n_buffer :50000, eps : 1.0%\n",
            "n_episode:4580, score : 263.6, n_buffer :50000, eps : 1.0%\n",
            "n_episode:4600, score : 261.1, n_buffer :50000, eps : 1.0%\n",
            "n_episode:4620, score : 344.1, n_buffer :50000, eps : 1.0%\n",
            "n_episode:4640, score : 320.4, n_buffer :50000, eps : 1.0%\n",
            "n_episode:4660, score : 333.4, n_buffer :50000, eps : 1.0%\n",
            "n_episode:4680, score : 385.2, n_buffer :50000, eps : 1.0%\n",
            "n_episode:4700, score : 451.5, n_buffer :50000, eps : 1.0%\n",
            "n_episode:4720, score : 341.4, n_buffer :50000, eps : 1.0%\n",
            "n_episode:4740, score : 419.8, n_buffer :50000, eps : 1.0%\n",
            "n_episode:4760, score : 398.4, n_buffer :50000, eps : 1.0%\n",
            "n_episode:4780, score : 483.2, n_buffer :50000, eps : 1.0%\n",
            "n_episode:4800, score : 350.8, n_buffer :50000, eps : 1.0%\n",
            "n_episode:4820, score : 349.2, n_buffer :50000, eps : 1.0%\n",
            "n_episode:4840, score : 124.9, n_buffer :50000, eps : 1.0%\n",
            "n_episode:4860, score : 150.8, n_buffer :50000, eps : 1.0%\n",
            "n_episode:4880, score : 119.7, n_buffer :50000, eps : 1.0%\n",
            "n_episode:4900, score : 153.0, n_buffer :50000, eps : 1.0%\n",
            "n_episode:4920, score : 211.6, n_buffer :50000, eps : 1.0%\n",
            "n_episode:4940, score : 254.3, n_buffer :50000, eps : 1.0%\n",
            "n_episode:4960, score : 370.8, n_buffer :50000, eps : 1.0%\n",
            "n_episode:4980, score : 432.3, n_buffer :50000, eps : 1.0%\n",
            "n_episode:5000, score : 472.4, n_buffer :50000, eps : 1.0%\n",
            "n_episode:5020, score : 448.4, n_buffer :50000, eps : 1.0%\n",
            "n_episode:5040, score : 323.7, n_buffer :50000, eps : 1.0%\n",
            "n_episode:5060, score : 390.3, n_buffer :50000, eps : 1.0%\n",
            "n_episode:5080, score : 404.4, n_buffer :50000, eps : 1.0%\n",
            "n_episode:5100, score : 413.1, n_buffer :50000, eps : 1.0%\n",
            "n_episode:5120, score : 217.8, n_buffer :50000, eps : 1.0%\n",
            "n_episode:5140, score : 127.7, n_buffer :50000, eps : 1.0%\n",
            "n_episode:5160, score : 264.7, n_buffer :50000, eps : 1.0%\n",
            "n_episode:5180, score : 207.3, n_buffer :50000, eps : 1.0%\n",
            "n_episode:5200, score : 333.0, n_buffer :50000, eps : 1.0%\n",
            "n_episode:5220, score : 201.3, n_buffer :50000, eps : 1.0%\n",
            "n_episode:5240, score : 394.2, n_buffer :50000, eps : 1.0%\n",
            "n_episode:5260, score : 175.4, n_buffer :50000, eps : 1.0%\n",
            "n_episode:5280, score : 154.7, n_buffer :50000, eps : 1.0%\n",
            "n_episode:5300, score : 206.5, n_buffer :50000, eps : 1.0%\n",
            "n_episode:5320, score : 313.1, n_buffer :50000, eps : 1.0%\n",
            "n_episode:5340, score : 242.3, n_buffer :50000, eps : 1.0%\n",
            "n_episode:5360, score : 131.4, n_buffer :50000, eps : 1.0%\n",
            "n_episode:5380, score : 191.7, n_buffer :50000, eps : 1.0%\n",
            "n_episode:5400, score : 202.0, n_buffer :50000, eps : 1.0%\n",
            "n_episode:5420, score : 152.1, n_buffer :50000, eps : 1.0%\n",
            "n_episode:5440, score : 258.4, n_buffer :50000, eps : 1.0%\n",
            "n_episode:5460, score : 387.8, n_buffer :50000, eps : 1.0%\n",
            "n_episode:5480, score : 437.8, n_buffer :50000, eps : 1.0%\n",
            "n_episode:5500, score : 387.6, n_buffer :50000, eps : 1.0%\n",
            "n_episode:5520, score : 153.2, n_buffer :50000, eps : 1.0%\n"
          ]
        },
        {
          "output_type": "error",
          "ename": "KeyboardInterrupt",
          "evalue": "ignored",
          "traceback": [
            "\u001b[0;31m---------------------------------------------------------------------------\u001b[0m",
            "\u001b[0;31mKeyboardInterrupt\u001b[0m                         Traceback (most recent call last)",
            "\u001b[0;32m<ipython-input-18-c7bc734e5e35>\u001b[0m in \u001b[0;36m<module>\u001b[0;34m()\u001b[0m\n\u001b[1;32m      1\u001b[0m \u001b[0;32mif\u001b[0m \u001b[0m__name__\u001b[0m \u001b[0;34m==\u001b[0m \u001b[0;34m'__main__'\u001b[0m\u001b[0;34m:\u001b[0m\u001b[0;34m\u001b[0m\u001b[0;34m\u001b[0m\u001b[0m\n\u001b[0;32m----> 2\u001b[0;31m     \u001b[0mmain\u001b[0m\u001b[0;34m(\u001b[0m\u001b[0;34m)\u001b[0m\u001b[0;34m\u001b[0m\u001b[0;34m\u001b[0m\u001b[0m\n\u001b[0m",
            "\u001b[0;32m<ipython-input-17-1e83daf13a61>\u001b[0m in \u001b[0;36mmain\u001b[0;34m()\u001b[0m\n\u001b[1;32m     18\u001b[0m \u001b[0;34m\u001b[0m\u001b[0m\n\u001b[1;32m     19\u001b[0m         \u001b[0;32mwhile\u001b[0m \u001b[0;32mnot\u001b[0m \u001b[0mdone\u001b[0m\u001b[0;34m:\u001b[0m\u001b[0;34m\u001b[0m\u001b[0;34m\u001b[0m\u001b[0m\n\u001b[0;32m---> 20\u001b[0;31m             \u001b[0ma\u001b[0m \u001b[0;34m=\u001b[0m \u001b[0mq\u001b[0m\u001b[0;34m.\u001b[0m\u001b[0msample_action\u001b[0m\u001b[0;34m(\u001b[0m\u001b[0mtorch\u001b[0m\u001b[0;34m.\u001b[0m\u001b[0mfrom_numpy\u001b[0m\u001b[0;34m(\u001b[0m\u001b[0ms\u001b[0m\u001b[0;34m)\u001b[0m\u001b[0;34m.\u001b[0m\u001b[0mfloat\u001b[0m\u001b[0;34m(\u001b[0m\u001b[0;34m)\u001b[0m\u001b[0;34m,\u001b[0m \u001b[0mepsilon\u001b[0m\u001b[0;34m)\u001b[0m\u001b[0;34m\u001b[0m\u001b[0;34m\u001b[0m\u001b[0m\n\u001b[0m\u001b[1;32m     21\u001b[0m             \u001b[0ms_prime\u001b[0m\u001b[0;34m,\u001b[0m \u001b[0mr\u001b[0m\u001b[0;34m,\u001b[0m \u001b[0mdone\u001b[0m\u001b[0;34m,\u001b[0m \u001b[0minfo\u001b[0m \u001b[0;34m=\u001b[0m \u001b[0menv\u001b[0m\u001b[0;34m.\u001b[0m\u001b[0mstep\u001b[0m\u001b[0;34m(\u001b[0m\u001b[0ma\u001b[0m\u001b[0;34m)\u001b[0m\u001b[0;34m\u001b[0m\u001b[0;34m\u001b[0m\u001b[0m\n\u001b[1;32m     22\u001b[0m             \u001b[0mdone_mask\u001b[0m \u001b[0;34m=\u001b[0m \u001b[0;36m0.0\u001b[0m \u001b[0;32mif\u001b[0m \u001b[0mdone\u001b[0m \u001b[0;32melse\u001b[0m \u001b[0;36m1.0\u001b[0m\u001b[0;34m\u001b[0m\u001b[0;34m\u001b[0m\u001b[0m\n",
            "\u001b[0;32m<ipython-input-11-091fb6965f8f>\u001b[0m in \u001b[0;36msample_action\u001b[0;34m(self, obs, epsilon)\u001b[0m\n\u001b[1;32m     13\u001b[0m \u001b[0;34m\u001b[0m\u001b[0m\n\u001b[1;32m     14\u001b[0m     \u001b[0;32mdef\u001b[0m \u001b[0msample_action\u001b[0m\u001b[0;34m(\u001b[0m\u001b[0mself\u001b[0m\u001b[0;34m,\u001b[0m \u001b[0mobs\u001b[0m\u001b[0;34m,\u001b[0m \u001b[0mepsilon\u001b[0m\u001b[0;34m)\u001b[0m\u001b[0;34m:\u001b[0m\u001b[0;34m\u001b[0m\u001b[0;34m\u001b[0m\u001b[0m\n\u001b[0;32m---> 15\u001b[0;31m         \u001b[0mout\u001b[0m \u001b[0;34m=\u001b[0m \u001b[0mself\u001b[0m\u001b[0;34m.\u001b[0m\u001b[0mforward\u001b[0m\u001b[0;34m(\u001b[0m\u001b[0mobs\u001b[0m\u001b[0;34m)\u001b[0m\u001b[0;34m\u001b[0m\u001b[0;34m\u001b[0m\u001b[0m\n\u001b[0m\u001b[1;32m     16\u001b[0m         \u001b[0mcoin\u001b[0m \u001b[0;34m=\u001b[0m \u001b[0mrandom\u001b[0m\u001b[0;34m.\u001b[0m\u001b[0mrandom\u001b[0m\u001b[0;34m(\u001b[0m\u001b[0;34m)\u001b[0m\u001b[0;34m\u001b[0m\u001b[0;34m\u001b[0m\u001b[0m\n\u001b[1;32m     17\u001b[0m         \u001b[0;32mif\u001b[0m \u001b[0mcoin\u001b[0m \u001b[0;34m<\u001b[0m \u001b[0mepsilon\u001b[0m\u001b[0;34m:\u001b[0m\u001b[0;34m\u001b[0m\u001b[0;34m\u001b[0m\u001b[0m\n",
            "\u001b[0;32m<ipython-input-11-091fb6965f8f>\u001b[0m in \u001b[0;36mforward\u001b[0;34m(self, x)\u001b[0m\n\u001b[1;32m      8\u001b[0m     \u001b[0;32mdef\u001b[0m \u001b[0mforward\u001b[0m\u001b[0;34m(\u001b[0m\u001b[0mself\u001b[0m\u001b[0;34m,\u001b[0m \u001b[0mx\u001b[0m\u001b[0;34m)\u001b[0m\u001b[0;34m:\u001b[0m\u001b[0;34m\u001b[0m\u001b[0;34m\u001b[0m\u001b[0m\n\u001b[1;32m      9\u001b[0m         \u001b[0mx\u001b[0m \u001b[0;34m=\u001b[0m \u001b[0mF\u001b[0m\u001b[0;34m.\u001b[0m\u001b[0mrelu\u001b[0m\u001b[0;34m(\u001b[0m\u001b[0mself\u001b[0m\u001b[0;34m.\u001b[0m\u001b[0mfc1\u001b[0m\u001b[0;34m(\u001b[0m\u001b[0mx\u001b[0m\u001b[0;34m)\u001b[0m\u001b[0;34m)\u001b[0m\u001b[0;34m\u001b[0m\u001b[0;34m\u001b[0m\u001b[0m\n\u001b[0;32m---> 10\u001b[0;31m         \u001b[0mx\u001b[0m \u001b[0;34m=\u001b[0m \u001b[0mF\u001b[0m\u001b[0;34m.\u001b[0m\u001b[0mrelu\u001b[0m\u001b[0;34m(\u001b[0m\u001b[0mself\u001b[0m\u001b[0;34m.\u001b[0m\u001b[0mfc2\u001b[0m\u001b[0;34m(\u001b[0m\u001b[0mx\u001b[0m\u001b[0;34m)\u001b[0m\u001b[0;34m)\u001b[0m\u001b[0;34m\u001b[0m\u001b[0;34m\u001b[0m\u001b[0m\n\u001b[0m\u001b[1;32m     11\u001b[0m         \u001b[0mx\u001b[0m \u001b[0;34m=\u001b[0m \u001b[0mself\u001b[0m\u001b[0;34m.\u001b[0m\u001b[0mfc3\u001b[0m\u001b[0;34m(\u001b[0m\u001b[0mx\u001b[0m\u001b[0;34m)\u001b[0m\u001b[0;34m\u001b[0m\u001b[0;34m\u001b[0m\u001b[0m\n\u001b[1;32m     12\u001b[0m         \u001b[0;32mreturn\u001b[0m \u001b[0mx\u001b[0m\u001b[0;34m\u001b[0m\u001b[0;34m\u001b[0m\u001b[0m\n",
            "\u001b[0;32m/usr/local/lib/python3.7/dist-packages/torch/nn/modules/module.py\u001b[0m in \u001b[0;36m__getattr__\u001b[0;34m(self, name)\u001b[0m\n\u001b[1;32m   1170\u001b[0m             \u001b[0mself\u001b[0m\u001b[0;34m.\u001b[0m\u001b[0m_is_full_backward_hook\u001b[0m \u001b[0;34m=\u001b[0m \u001b[0;32mNone\u001b[0m\u001b[0;34m\u001b[0m\u001b[0;34m\u001b[0m\u001b[0m\n\u001b[1;32m   1171\u001b[0m \u001b[0;34m\u001b[0m\u001b[0m\n\u001b[0;32m-> 1172\u001b[0;31m     \u001b[0;32mdef\u001b[0m \u001b[0m__getattr__\u001b[0m\u001b[0;34m(\u001b[0m\u001b[0mself\u001b[0m\u001b[0;34m,\u001b[0m \u001b[0mname\u001b[0m\u001b[0;34m:\u001b[0m \u001b[0mstr\u001b[0m\u001b[0;34m)\u001b[0m \u001b[0;34m->\u001b[0m \u001b[0mUnion\u001b[0m\u001b[0;34m[\u001b[0m\u001b[0mTensor\u001b[0m\u001b[0;34m,\u001b[0m \u001b[0;34m'Module'\u001b[0m\u001b[0;34m]\u001b[0m\u001b[0;34m:\u001b[0m\u001b[0;34m\u001b[0m\u001b[0;34m\u001b[0m\u001b[0m\n\u001b[0m\u001b[1;32m   1173\u001b[0m         \u001b[0;32mif\u001b[0m \u001b[0;34m'_parameters'\u001b[0m \u001b[0;32min\u001b[0m \u001b[0mself\u001b[0m\u001b[0;34m.\u001b[0m\u001b[0m__dict__\u001b[0m\u001b[0;34m:\u001b[0m\u001b[0;34m\u001b[0m\u001b[0;34m\u001b[0m\u001b[0m\n\u001b[1;32m   1174\u001b[0m             \u001b[0m_parameters\u001b[0m \u001b[0;34m=\u001b[0m \u001b[0mself\u001b[0m\u001b[0;34m.\u001b[0m\u001b[0m__dict__\u001b[0m\u001b[0;34m[\u001b[0m\u001b[0;34m'_parameters'\u001b[0m\u001b[0;34m]\u001b[0m\u001b[0;34m\u001b[0m\u001b[0;34m\u001b[0m\u001b[0m\n",
            "\u001b[0;31mKeyboardInterrupt\u001b[0m: "
          ]
        }
      ]
    },
    {
      "cell_type": "markdown",
      "source": [
        "에피소드가 늘어나면, 평균 스코어값은 오르나 완벽하진 않고, eps는 수렴하는 것을 확인하였다."
      ],
      "metadata": {
        "id": "Lqrcv2cdxT2Q"
      }
    },
    {
      "cell_type": "code",
      "source": [
        ""
      ],
      "metadata": {
        "id": "GojvzvVI4Bu5"
      },
      "execution_count": null,
      "outputs": []
    }
  ]
}